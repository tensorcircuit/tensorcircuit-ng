{
 "cells": [
  {
   "cell_type": "code",
   "id": "initial_id",
   "metadata": {
    "collapsed": true,
    "ExecuteTime": {
     "end_time": "2025-08-26T07:36:26.975236Z",
     "start_time": "2025-08-26T07:36:25.503985Z"
    }
   },
   "source": "import tensorcircuit as tc",
   "outputs": [],
   "execution_count": 1
  },
  {
   "metadata": {
    "ExecuteTime": {
     "end_time": "2025-08-26T07:36:27.462115Z",
     "start_time": "2025-08-26T07:36:27.459735Z"
    }
   },
   "cell_type": "code",
   "source": "circ = tc.QuditCircuit(2, 3)",
   "id": "10ac6415ebf51e81",
   "outputs": [],
   "execution_count": 2
  },
  {
   "metadata": {
    "ExecuteTime": {
     "end_time": "2025-08-26T07:36:32.417889Z",
     "start_time": "2025-08-26T07:36:32.414700Z"
    }
   },
   "cell_type": "code",
   "source": [
    "circ.h(0)\n",
    "circ.x(1)\n",
    "circ.csum(0, 1)"
   ],
   "id": "f8f6a136a2f26443",
   "outputs": [],
   "execution_count": 3
  },
  {
   "metadata": {
    "ExecuteTime": {
     "end_time": "2025-08-26T07:36:34.780844Z",
     "start_time": "2025-08-26T07:36:34.079237Z"
    }
   },
   "cell_type": "code",
   "source": "circ.sample(1025, format='count_dict_bin')",
   "id": "6ee2d3711919ce7f",
   "outputs": [
    {
     "data": {
      "text/plain": [
       "{'01': 347, '12': 331, '20': 347}"
      ]
     },
     "execution_count": 4,
     "metadata": {},
     "output_type": "execute_result"
    }
   ],
   "execution_count": 4
  },
  {
   "metadata": {
    "ExecuteTime": {
     "end_time": "2025-08-26T07:36:35.461702Z",
     "start_time": "2025-08-26T07:36:35.457839Z"
    }
   },
   "cell_type": "code",
   "source": "circ.state()",
   "id": "3b9e80caf86756a8",
   "outputs": [
    {
     "data": {
      "text/plain": [
       "array([0.        +0.j, 0.57735026+0.j, 0.        +0.j, 0.        +0.j,\n",
       "       0.        +0.j, 0.57735026+0.j, 0.57735026+0.j, 0.        +0.j,\n",
       "       0.        +0.j], dtype=complex64)"
      ]
     },
     "execution_count": 5,
     "metadata": {},
     "output_type": "execute_result"
    }
   ],
   "execution_count": 5
  },
  {
   "metadata": {
    "ExecuteTime": {
     "end_time": "2025-08-26T07:11:24.989282Z",
     "start_time": "2025-08-26T07:11:24.984659Z"
    }
   },
   "cell_type": "code",
   "source": "circ.measure(0, 1, with_prob=True)",
   "id": "3973402715be66fd",
   "outputs": [
    {
     "data": {
      "text/plain": [
       "(array([0., 0.], dtype=float32), np.float32(1.0))"
      ]
     },
     "execution_count": 6,
     "metadata": {},
     "output_type": "execute_result"
    }
   ],
   "execution_count": 6
  },
  {
   "metadata": {
    "ExecuteTime": {
     "end_time": "2025-08-26T07:27:52.728608Z",
     "start_time": "2025-08-26T07:27:52.726041Z"
    }
   },
   "cell_type": "code",
   "source": "c = tc.Circuit(2)",
   "id": "93a9b1aa90c0d3c6",
   "outputs": [],
   "execution_count": 5
  },
  {
   "metadata": {
    "ExecuteTime": {
     "end_time": "2025-08-26T07:27:54.979822Z",
     "start_time": "2025-08-26T07:27:54.858706Z"
    }
   },
   "cell_type": "code",
   "source": [
    "c.h(0, 1)\n",
    "c.cnot(0, 1)"
   ],
   "id": "3ebffff19eb2b513",
   "outputs": [
    {
     "ename": "IndexError",
     "evalue": "list index out of range",
     "output_type": "error",
     "traceback": [
      "\u001B[31m---------------------------------------------------------------------------\u001B[39m",
      "\u001B[31mIndexError\u001B[39m                                Traceback (most recent call last)",
      "\u001B[36mCell\u001B[39m\u001B[36m \u001B[39m\u001B[32mIn[6]\u001B[39m\u001B[32m, line 1\u001B[39m\n\u001B[32m----> \u001B[39m\u001B[32m1\u001B[39m \u001B[43mc\u001B[49m\u001B[43m.\u001B[49m\u001B[43mh\u001B[49m\u001B[43m(\u001B[49m\u001B[32;43m0\u001B[39;49m\u001B[43m,\u001B[49m\u001B[43m \u001B[49m\u001B[32;43m1\u001B[39;49m\u001B[43m)\u001B[49m\n\u001B[32m      2\u001B[39m c.cnot(\u001B[32m0\u001B[39m, \u001B[32m1\u001B[39m)\n",
      "\u001B[36mFile \u001B[39m\u001B[32m~/PyProgram/tensorcircuit-ng/tensorcircuit/abstractcircuit.py:193\u001B[39m, in \u001B[36mAbstractCircuit.apply_general_gate_delayed.<locals>.apply_list\u001B[39m\u001B[34m(self, *index, **kws)\u001B[39m\n\u001B[32m    191\u001B[39m \u001B[38;5;28;01mdef\u001B[39;00m\u001B[38;5;250m \u001B[39m\u001B[34mapply_list\u001B[39m(\u001B[38;5;28mself\u001B[39m: \u001B[33m\"\u001B[39m\u001B[33mAbstractCircuit\u001B[39m\u001B[33m\"\u001B[39m, *index: \u001B[38;5;28mint\u001B[39m, **kws: Any) -> \u001B[38;5;28;01mNone\u001B[39;00m:\n\u001B[32m    192\u001B[39m     \u001B[38;5;28;01mif\u001B[39;00m \u001B[38;5;28misinstance\u001B[39m(index[\u001B[32m0\u001B[39m], \u001B[38;5;28mint\u001B[39m):\n\u001B[32m--> \u001B[39m\u001B[32m193\u001B[39m         \u001B[43mapply\u001B[49m\u001B[43m(\u001B[49m\u001B[38;5;28;43mself\u001B[39;49m\u001B[43m,\u001B[49m\u001B[43m \u001B[49m\u001B[43m*\u001B[49m\u001B[43mindex\u001B[49m\u001B[43m,\u001B[49m\u001B[43m \u001B[49m\u001B[43m*\u001B[49m\u001B[43m*\u001B[49m\u001B[43mkws\u001B[49m\u001B[43m)\u001B[49m\n\u001B[32m    194\u001B[39m     \u001B[38;5;28;01melif\u001B[39;00m is_sequence(index[\u001B[32m0\u001B[39m]) \u001B[38;5;129;01mor\u001B[39;00m \u001B[38;5;28misinstance\u001B[39m(index[\u001B[32m0\u001B[39m], \u001B[38;5;28mrange\u001B[39m):\n\u001B[32m    195\u001B[39m         \u001B[38;5;28;01mfor\u001B[39;00m ind \u001B[38;5;129;01min\u001B[39;00m \u001B[38;5;28mzip\u001B[39m(*index):\n",
      "\u001B[36mFile \u001B[39m\u001B[32m~/PyProgram/tensorcircuit-ng/tensorcircuit/abstractcircuit.py:182\u001B[39m, in \u001B[36mAbstractCircuit.apply_general_gate_delayed.<locals>.apply\u001B[39m\u001B[34m(self, split, name, *index)\u001B[39m\n\u001B[32m    179\u001B[39m gate = gatef()\n\u001B[32m    180\u001B[39m gate_dict = {\u001B[33m\"\u001B[39m\u001B[33mgatef\u001B[39m\u001B[33m\"\u001B[39m: gatef}\n\u001B[32m--> \u001B[39m\u001B[32m182\u001B[39m \u001B[38;5;28;43mself\u001B[39;49m\u001B[43m.\u001B[49m\u001B[43mapply_general_gate\u001B[49m\u001B[43m(\u001B[49m\n\u001B[32m    183\u001B[39m \u001B[43m    \u001B[49m\u001B[43mgate\u001B[49m\u001B[43m,\u001B[49m\n\u001B[32m    184\u001B[39m \u001B[43m    \u001B[49m\u001B[43m*\u001B[49m\u001B[43mindex\u001B[49m\u001B[43m,\u001B[49m\n\u001B[32m    185\u001B[39m \u001B[43m    \u001B[49m\u001B[43mname\u001B[49m\u001B[43m=\u001B[49m\u001B[43mlocalname\u001B[49m\u001B[43m,\u001B[49m\n\u001B[32m    186\u001B[39m \u001B[43m    \u001B[49m\u001B[43msplit\u001B[49m\u001B[43m=\u001B[49m\u001B[43msplit\u001B[49m\u001B[43m,\u001B[49m\n\u001B[32m    187\u001B[39m \u001B[43m    \u001B[49m\u001B[43mmpo\u001B[49m\u001B[43m=\u001B[49m\u001B[43mmpo\u001B[49m\u001B[43m,\u001B[49m\n\u001B[32m    188\u001B[39m \u001B[43m    \u001B[49m\u001B[43mir_dict\u001B[49m\u001B[43m=\u001B[49m\u001B[43mgate_dict\u001B[49m\u001B[43m,\u001B[49m\n\u001B[32m    189\u001B[39m \u001B[43m\u001B[49m\u001B[43m)\u001B[49m\n",
      "\u001B[36mFile \u001B[39m\u001B[32m~/PyProgram/tensorcircuit-ng/tensorcircuit/basecircuit.py:241\u001B[39m, in \u001B[36mBaseCircuit.apply_general_gate\u001B[39m\u001B[34m(self, gate, name, split, mpo, ir_dict, *index)\u001B[39m\n\u001B[32m    239\u001B[39m     \u001B[38;5;28mself\u001B[39m._nodes.append(lgate)\n\u001B[32m    240\u001B[39m \u001B[38;5;28;01mfor\u001B[39;00m i, ind \u001B[38;5;129;01min\u001B[39;00m \u001B[38;5;28menumerate\u001B[39m(index):\n\u001B[32m--> \u001B[39m\u001B[32m241\u001B[39m     \u001B[43mgate\u001B[49m\u001B[43m.\u001B[49m\u001B[43mget_edge\u001B[49m\u001B[43m(\u001B[49m\u001B[43mi\u001B[49m\u001B[43m \u001B[49m\u001B[43m+\u001B[49m\u001B[43m \u001B[49m\u001B[43mnoe\u001B[49m\u001B[43m)\u001B[49m ^ \u001B[38;5;28mself\u001B[39m._front[ind]\n\u001B[32m    242\u001B[39m     \u001B[38;5;28mself\u001B[39m._front[ind] = gate.get_edge(i)\n\u001B[32m    243\u001B[39m     \u001B[38;5;28;01mif\u001B[39;00m \u001B[38;5;28mself\u001B[39m.is_dm:\n",
      "\u001B[36mFile \u001B[39m\u001B[32m/opt/miniconda3/envs/weiguoQ/lib/python3.12/site-packages/tensornetwork/network_components.py:331\u001B[39m, in \u001B[36mAbstractNode.get_edge\u001B[39m\u001B[34m(self, axis)\u001B[39m\n\u001B[32m    329\u001B[39m \u001B[38;5;28;01mdef\u001B[39;00m\u001B[38;5;250m \u001B[39m\u001B[34mget_edge\u001B[39m(\u001B[38;5;28mself\u001B[39m, axis: Union[\u001B[38;5;28mint\u001B[39m, Text]) -> \u001B[33m\"\u001B[39m\u001B[33mEdge\u001B[39m\u001B[33m\"\u001B[39m:\n\u001B[32m    330\u001B[39m   axis_num = \u001B[38;5;28mself\u001B[39m.get_axis_number(axis)\n\u001B[32m--> \u001B[39m\u001B[32m331\u001B[39m   \u001B[38;5;28;01mreturn\u001B[39;00m \u001B[38;5;28;43mself\u001B[39;49m\u001B[43m.\u001B[49m\u001B[43medges\u001B[49m\u001B[43m[\u001B[49m\u001B[43maxis_num\u001B[49m\u001B[43m]\u001B[49m\n",
      "\u001B[31mIndexError\u001B[39m: list index out of range"
     ]
    }
   ],
   "execution_count": 6
  },
  {
   "metadata": {
    "ExecuteTime": {
     "end_time": "2025-08-26T07:05:04.159514Z",
     "start_time": "2025-08-26T07:05:04.157339Z"
    }
   },
   "cell_type": "code",
   "source": "c.amplitude('11')",
   "id": "736f75158f847b3e",
   "outputs": [
    {
     "data": {
      "text/plain": [
       "array(0.70710677+0.j, dtype=complex64)"
      ]
     },
     "execution_count": 10,
     "metadata": {},
     "output_type": "execute_result"
    }
   ],
   "execution_count": 10
  },
  {
   "metadata": {
    "ExecuteTime": {
     "end_time": "2025-08-26T07:05:04.170530Z",
     "start_time": "2025-08-26T07:05:04.167792Z"
    }
   },
   "cell_type": "code",
   "source": "c.wavefunction()",
   "id": "e673ff7f674340e9",
   "outputs": [
    {
     "name": "stdout",
     "output_type": "stream",
     "text": [
      "[Node\n",
      "(\n",
      "name : 'qb-0',\n",
      "tensor : \n",
      "array([1.+0.j, 0.+0.j], dtype=complex64),\n",
      "edges : \n",
      "[\n",
      "Edge('h'[1] -> 'qb-0'[0] )\n",
      "] \n",
      "), Node\n",
      "(\n",
      "name : 'qb-1',\n",
      "tensor : \n",
      "array([1.+0.j, 0.+0.j], dtype=complex64),\n",
      "edges : \n",
      "[\n",
      "Edge('cnot'[3] -> 'qb-1'[0] )\n",
      "] \n",
      "), Gate(\n",
      "    name: 'h',\n",
      "    tensor:\n",
      "        array([[ 0.70710677+0.j,  0.70710677+0.j],\n",
      "               [ 0.70710677+0.j, -0.70710677+0.j]], dtype=complex64),\n",
      "    edges: [\n",
      "        Edge('cnot'[2] -> 'h'[0] ),\n",
      "        Edge('h'[1] -> 'qb-0'[0] )\n",
      "    ]), Gate(\n",
      "    name: 'cnot',\n",
      "    tensor:\n",
      "        array([[[[1.+0.j, 0.+0.j],\n",
      "                 [0.+0.j, 0.+0.j]],\n",
      "        \n",
      "                [[0.+0.j, 1.+0.j],\n",
      "                 [0.+0.j, 0.+0.j]]],\n",
      "        \n",
      "        \n",
      "               [[[0.+0.j, 0.+0.j],\n",
      "                 [0.+0.j, 1.+0.j]],\n",
      "        \n",
      "                [[0.+0.j, 0.+0.j],\n",
      "                 [1.+0.j, 0.+0.j]]]], dtype=complex64),\n",
      "    edges: [\n",
      "        Edge(Dangling Edge)[0],\n",
      "        Edge(Dangling Edge)[1],\n",
      "        Edge('cnot'[2] -> 'h'[0] ),\n",
      "        Edge('cnot'[3] -> 'qb-1'[0] )\n",
      "    ])]\n",
      "[[0.70710677+0.j 0.        +0.j]\n",
      " [0.        +0.j 0.70710677+0.j]]\n"
     ]
    },
    {
     "data": {
      "text/plain": [
       "array([0.70710677+0.j, 0.        +0.j, 0.        +0.j, 0.70710677+0.j],\n",
       "      dtype=complex64)"
      ]
     },
     "execution_count": 11,
     "metadata": {},
     "output_type": "execute_result"
    }
   ],
   "execution_count": 11
  },
  {
   "metadata": {
    "ExecuteTime": {
     "end_time": "2025-08-26T07:05:04.180842Z",
     "start_time": "2025-08-26T07:05:04.179700Z"
    }
   },
   "cell_type": "code",
   "source": "",
   "id": "33a846dbff770c87",
   "outputs": [],
   "execution_count": null
  }
 ],
 "metadata": {
  "kernelspec": {
   "display_name": "Python 3",
   "language": "python",
   "name": "python3"
  },
  "language_info": {
   "codemirror_mode": {
    "name": "ipython",
    "version": 2
   },
   "file_extension": ".py",
   "mimetype": "text/x-python",
   "name": "python",
   "nbconvert_exporter": "python",
   "pygments_lexer": "ipython2",
   "version": "2.7.6"
  }
 },
 "nbformat": 4,
 "nbformat_minor": 5
}
